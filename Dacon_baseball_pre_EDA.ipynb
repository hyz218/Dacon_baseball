{
  "nbformat": 4,
  "nbformat_minor": 0,
  "metadata": {
    "colab": {
      "name": "Dacon_baseball_pre_EDA.ipynb",
      "provenance": [],
      "collapsed_sections": [],
      "mount_file_id": "1z0vP-LQKdVqB9L7a0EKINRb5nZ0oXWm4",
      "authorship_tag": "ABX9TyOKse/Q4zz+Ian+5n6t7PLR",
      "include_colab_link": true
    },
    "kernelspec": {
      "name": "python3",
      "display_name": "Python 3"
    },
    "language_info": {
      "name": "python"
    }
  },
  "cells": [
    {
      "cell_type": "markdown",
      "metadata": {
        "id": "view-in-github",
        "colab_type": "text"
      },
      "source": [
        "<a href=\"https://colab.research.google.com/github/hyz218/Dacon_baseball/blob/master/Dacon_baseball_pre_EDA.ipynb\" target=\"_parent\"><img src=\"https://colab.research.google.com/assets/colab-badge.svg\" alt=\"Open In Colab\"/></a>"
      ]
    },
    {
      "cell_type": "code",
      "metadata": {
        "colab": {
          "base_uri": "https://localhost:8080/"
        },
        "id": "vmK1IneN_WDP",
        "outputId": "d9f4a463-ce62-44f9-e36e-37cdc24977e1"
      },
      "source": [
        "!sudo apt-get install -y fonts-nanum\n",
        "!sudo fc-cache -fv\n",
        "!rm ~/.cache/matplotlib -rf"
      ],
      "execution_count": 1,
      "outputs": [
        {
          "output_type": "stream",
          "text": [
            "Reading package lists... Done\n",
            "Building dependency tree       \n",
            "Reading state information... Done\n",
            "fonts-nanum is already the newest version (20170925-1).\n",
            "The following package was automatically installed and is no longer required:\n",
            "  libnvidia-common-460\n",
            "Use 'sudo apt autoremove' to remove it.\n",
            "0 upgraded, 0 newly installed, 0 to remove and 40 not upgraded.\n",
            "/usr/share/fonts: caching, new cache contents: 0 fonts, 1 dirs\n",
            "/usr/share/fonts/truetype: caching, new cache contents: 0 fonts, 3 dirs\n",
            "/usr/share/fonts/truetype/humor-sans: caching, new cache contents: 1 fonts, 0 dirs\n",
            "/usr/share/fonts/truetype/liberation: caching, new cache contents: 16 fonts, 0 dirs\n",
            "/usr/share/fonts/truetype/nanum: caching, new cache contents: 10 fonts, 0 dirs\n",
            "/usr/local/share/fonts: caching, new cache contents: 0 fonts, 0 dirs\n",
            "/root/.local/share/fonts: skipping, no such directory\n",
            "/root/.fonts: skipping, no such directory\n",
            "/var/cache/fontconfig: cleaning cache directory\n",
            "/root/.cache/fontconfig: not cleaning non-existent cache directory\n",
            "/root/.fontconfig: not cleaning non-existent cache directory\n",
            "fc-cache: succeeded\n"
          ],
          "name": "stdout"
        }
      ]
    },
    {
      "cell_type": "code",
      "metadata": {
        "id": "oxeM6J6AbxxC"
      },
      "source": [
        "from matplotlib import font_manager, rc\n",
        "import matplotlib\n",
        "import matplotlib.pyplot as plt\n",
        "import seaborn as sns\n",
        "import plotly\n",
        "import numpy as np\n",
        "import pandas as pd\n",
        "import platform\n",
        "plt.rc('font', family='NanumBarunGothic') \n",
        "matplotlib.rcParams['axes.unicode_minus'] = False"
      ],
      "execution_count": 2,
      "outputs": []
    },
    {
      "cell_type": "code",
      "metadata": {
        "id": "-rYuf0NDdPN5"
      },
      "source": [
        "base_path = '/content/drive/MyDrive/Colab Notebooks/KBO_prediction_data/'\n",
        "pre_df = pd.read_csv(base_path+'Pre_Season_Batter.csv')\n",
        "regular_df = pd.read_csv(base_path+'Regular_Season_Batter.csv')"
      ],
      "execution_count": 3,
      "outputs": []
    },
    {
      "cell_type": "code",
      "metadata": {
        "colab": {
          "base_uri": "https://localhost:8080/"
        },
        "id": "n6ptoF08doYN",
        "outputId": "2e17a6b1-004e-4730-d623-bf229bd89979"
      },
      "source": [
        "pre_df.shape"
      ],
      "execution_count": 4,
      "outputs": [
        {
          "output_type": "execute_result",
          "data": {
            "text/plain": [
              "(1393, 29)"
            ]
          },
          "metadata": {},
          "execution_count": 4
        }
      ]
    },
    {
      "cell_type": "code",
      "metadata": {
        "colab": {
          "base_uri": "https://localhost:8080/"
        },
        "id": "4OrljICldrG1",
        "outputId": "3b1dd6bc-5a2b-447c-9cf7-d5e2185eb6b9"
      },
      "source": [
        "regular_df.shape"
      ],
      "execution_count": 5,
      "outputs": [
        {
          "output_type": "execute_result",
          "data": {
            "text/plain": [
              "(2454, 29)"
            ]
          },
          "metadata": {},
          "execution_count": 5
        }
      ]
    },
    {
      "cell_type": "code",
      "metadata": {
        "colab": {
          "base_uri": "https://localhost:8080/",
          "height": 380
        },
        "id": "v-RpakrPdtG2",
        "outputId": "f6dfb0c3-f3bb-47ff-885c-cb9d156211f6"
      },
      "source": [
        "pre_df.head(3)"
      ],
      "execution_count": 6,
      "outputs": [
        {
          "output_type": "execute_result",
          "data": {
            "text/html": [
              "<div>\n",
              "<style scoped>\n",
              "    .dataframe tbody tr th:only-of-type {\n",
              "        vertical-align: middle;\n",
              "    }\n",
              "\n",
              "    .dataframe tbody tr th {\n",
              "        vertical-align: top;\n",
              "    }\n",
              "\n",
              "    .dataframe thead th {\n",
              "        text-align: right;\n",
              "    }\n",
              "</style>\n",
              "<table border=\"1\" class=\"dataframe\">\n",
              "  <thead>\n",
              "    <tr style=\"text-align: right;\">\n",
              "      <th></th>\n",
              "      <th>batter_id</th>\n",
              "      <th>batter_name</th>\n",
              "      <th>year</th>\n",
              "      <th>team</th>\n",
              "      <th>avg</th>\n",
              "      <th>G</th>\n",
              "      <th>AB</th>\n",
              "      <th>R</th>\n",
              "      <th>H</th>\n",
              "      <th>2B</th>\n",
              "      <th>3B</th>\n",
              "      <th>HR</th>\n",
              "      <th>TB</th>\n",
              "      <th>RBI</th>\n",
              "      <th>SB</th>\n",
              "      <th>CS</th>\n",
              "      <th>BB</th>\n",
              "      <th>HBP</th>\n",
              "      <th>SO</th>\n",
              "      <th>GDP</th>\n",
              "      <th>SLG</th>\n",
              "      <th>OBP</th>\n",
              "      <th>E</th>\n",
              "      <th>height/weight</th>\n",
              "      <th>year_born</th>\n",
              "      <th>position</th>\n",
              "      <th>career</th>\n",
              "      <th>starting_salary</th>\n",
              "      <th>OPS</th>\n",
              "    </tr>\n",
              "  </thead>\n",
              "  <tbody>\n",
              "    <tr>\n",
              "      <th>0</th>\n",
              "      <td>0</td>\n",
              "      <td>가르시아</td>\n",
              "      <td>2018</td>\n",
              "      <td>LG</td>\n",
              "      <td>0.350</td>\n",
              "      <td>7</td>\n",
              "      <td>20</td>\n",
              "      <td>1</td>\n",
              "      <td>7</td>\n",
              "      <td>1</td>\n",
              "      <td>0</td>\n",
              "      <td>1</td>\n",
              "      <td>11</td>\n",
              "      <td>5</td>\n",
              "      <td>0</td>\n",
              "      <td>0</td>\n",
              "      <td>2</td>\n",
              "      <td>0</td>\n",
              "      <td>3</td>\n",
              "      <td>1</td>\n",
              "      <td>0.55</td>\n",
              "      <td>0.409</td>\n",
              "      <td>1</td>\n",
              "      <td>177cm/93kg</td>\n",
              "      <td>1985년 04월 12일</td>\n",
              "      <td>내야수(우투우타)</td>\n",
              "      <td>쿠바 Ciego de Avila Maximo Gomez Baez(대)</td>\n",
              "      <td>NaN</td>\n",
              "      <td>0.959</td>\n",
              "    </tr>\n",
              "    <tr>\n",
              "      <th>1</th>\n",
              "      <td>1</td>\n",
              "      <td>강경학</td>\n",
              "      <td>2011</td>\n",
              "      <td>한화</td>\n",
              "      <td>0.000</td>\n",
              "      <td>4</td>\n",
              "      <td>2</td>\n",
              "      <td>2</td>\n",
              "      <td>0</td>\n",
              "      <td>0</td>\n",
              "      <td>0</td>\n",
              "      <td>0</td>\n",
              "      <td>0</td>\n",
              "      <td>1</td>\n",
              "      <td>0</td>\n",
              "      <td>1</td>\n",
              "      <td>0</td>\n",
              "      <td>2</td>\n",
              "      <td>1</td>\n",
              "      <td>0</td>\n",
              "      <td>0.00</td>\n",
              "      <td>0.500</td>\n",
              "      <td>0</td>\n",
              "      <td>180cm/72kg</td>\n",
              "      <td>1992년 08월 11일</td>\n",
              "      <td>내야수(우투좌타)</td>\n",
              "      <td>광주대성초-광주동성중-광주동성고</td>\n",
              "      <td>10000만원</td>\n",
              "      <td>0.500</td>\n",
              "    </tr>\n",
              "    <tr>\n",
              "      <th>2</th>\n",
              "      <td>1</td>\n",
              "      <td>강경학</td>\n",
              "      <td>2014</td>\n",
              "      <td>한화</td>\n",
              "      <td>-</td>\n",
              "      <td>4</td>\n",
              "      <td>0</td>\n",
              "      <td>2</td>\n",
              "      <td>0</td>\n",
              "      <td>0</td>\n",
              "      <td>0</td>\n",
              "      <td>0</td>\n",
              "      <td>0</td>\n",
              "      <td>0</td>\n",
              "      <td>0</td>\n",
              "      <td>0</td>\n",
              "      <td>0</td>\n",
              "      <td>0</td>\n",
              "      <td>0</td>\n",
              "      <td>0</td>\n",
              "      <td>NaN</td>\n",
              "      <td>NaN</td>\n",
              "      <td>0</td>\n",
              "      <td>180cm/72kg</td>\n",
              "      <td>1992년 08월 11일</td>\n",
              "      <td>내야수(우투좌타)</td>\n",
              "      <td>광주대성초-광주동성중-광주동성고</td>\n",
              "      <td>10000만원</td>\n",
              "      <td>NaN</td>\n",
              "    </tr>\n",
              "  </tbody>\n",
              "</table>\n",
              "</div>"
            ],
            "text/plain": [
              "   batter_id batter_name  ...  starting_salary    OPS\n",
              "0          0        가르시아  ...              NaN  0.959\n",
              "1          1         강경학  ...          10000만원  0.500\n",
              "2          1         강경학  ...          10000만원    NaN\n",
              "\n",
              "[3 rows x 29 columns]"
            ]
          },
          "metadata": {},
          "execution_count": 6
        }
      ]
    },
    {
      "cell_type": "code",
      "metadata": {
        "colab": {
          "base_uri": "https://localhost:8080/"
        },
        "id": "9QX6aqnBdw2a",
        "outputId": "8f5ca60e-6b28-4be1-a99b-8bd7ab7acb89"
      },
      "source": [
        "pre_df.info() #결측치 확인을 위한 info()"
      ],
      "execution_count": 7,
      "outputs": [
        {
          "output_type": "stream",
          "text": [
            "<class 'pandas.core.frame.DataFrame'>\n",
            "RangeIndex: 1393 entries, 0 to 1392\n",
            "Data columns (total 29 columns):\n",
            " #   Column           Non-Null Count  Dtype  \n",
            "---  ------           --------------  -----  \n",
            " 0   batter_id        1393 non-null   int64  \n",
            " 1   batter_name      1393 non-null   object \n",
            " 2   year             1393 non-null   int64  \n",
            " 3   team             1393 non-null   object \n",
            " 4   avg              1393 non-null   object \n",
            " 5   G                1393 non-null   int64  \n",
            " 6   AB               1393 non-null   int64  \n",
            " 7   R                1393 non-null   int64  \n",
            " 8   H                1393 non-null   int64  \n",
            " 9   2B               1393 non-null   int64  \n",
            " 10  3B               1393 non-null   int64  \n",
            " 11  HR               1393 non-null   int64  \n",
            " 12  TB               1393 non-null   int64  \n",
            " 13  RBI              1393 non-null   int64  \n",
            " 14  SB               1393 non-null   int64  \n",
            " 15  CS               1393 non-null   int64  \n",
            " 16  BB               1393 non-null   int64  \n",
            " 17  HBP              1393 non-null   int64  \n",
            " 18  SO               1393 non-null   int64  \n",
            " 19  GDP              1393 non-null   int64  \n",
            " 20  SLG              1364 non-null   float64\n",
            " 21  OBP              1368 non-null   float64\n",
            " 22  E                1393 non-null   int64  \n",
            " 23  height/weight    1393 non-null   object \n",
            " 24  year_born        1393 non-null   object \n",
            " 25  position         1393 non-null   object \n",
            " 26  career           1393 non-null   object \n",
            " 27  starting_salary  1179 non-null   object \n",
            " 28  OPS              1364 non-null   float64\n",
            "dtypes: float64(3), int64(18), object(8)\n",
            "memory usage: 315.7+ KB\n"
          ],
          "name": "stdout"
        }
      ]
    },
    {
      "cell_type": "code",
      "metadata": {
        "colab": {
          "base_uri": "https://localhost:8080/",
          "height": 315
        },
        "id": "U2hpgjzsd1Pw",
        "outputId": "80f7b9e3-dd0e-43d8-cff6-ba7e80f44de9"
      },
      "source": [
        "display(pre_df.describe()) #이상치 확인을 위한 describe 확인"
      ],
      "execution_count": 8,
      "outputs": [
        {
          "output_type": "display_data",
          "data": {
            "text/html": [
              "<div>\n",
              "<style scoped>\n",
              "    .dataframe tbody tr th:only-of-type {\n",
              "        vertical-align: middle;\n",
              "    }\n",
              "\n",
              "    .dataframe tbody tr th {\n",
              "        vertical-align: top;\n",
              "    }\n",
              "\n",
              "    .dataframe thead th {\n",
              "        text-align: right;\n",
              "    }\n",
              "</style>\n",
              "<table border=\"1\" class=\"dataframe\">\n",
              "  <thead>\n",
              "    <tr style=\"text-align: right;\">\n",
              "      <th></th>\n",
              "      <th>batter_id</th>\n",
              "      <th>year</th>\n",
              "      <th>G</th>\n",
              "      <th>AB</th>\n",
              "      <th>R</th>\n",
              "      <th>H</th>\n",
              "      <th>2B</th>\n",
              "      <th>3B</th>\n",
              "      <th>HR</th>\n",
              "      <th>TB</th>\n",
              "      <th>RBI</th>\n",
              "      <th>SB</th>\n",
              "      <th>CS</th>\n",
              "      <th>BB</th>\n",
              "      <th>HBP</th>\n",
              "      <th>SO</th>\n",
              "      <th>GDP</th>\n",
              "      <th>SLG</th>\n",
              "      <th>OBP</th>\n",
              "      <th>E</th>\n",
              "      <th>OPS</th>\n",
              "    </tr>\n",
              "  </thead>\n",
              "  <tbody>\n",
              "    <tr>\n",
              "      <th>count</th>\n",
              "      <td>1393.000000</td>\n",
              "      <td>1393.000000</td>\n",
              "      <td>1393.000000</td>\n",
              "      <td>1393.000000</td>\n",
              "      <td>1393.000000</td>\n",
              "      <td>1393.000000</td>\n",
              "      <td>1393.000000</td>\n",
              "      <td>1393.000000</td>\n",
              "      <td>1393.000000</td>\n",
              "      <td>1393.000000</td>\n",
              "      <td>1393.000000</td>\n",
              "      <td>1393.000000</td>\n",
              "      <td>1393.000000</td>\n",
              "      <td>1393.000000</td>\n",
              "      <td>1393.000000</td>\n",
              "      <td>1393.000000</td>\n",
              "      <td>1393.000000</td>\n",
              "      <td>1364.000000</td>\n",
              "      <td>1368.000000</td>\n",
              "      <td>1393.000000</td>\n",
              "      <td>1364.000000</td>\n",
              "    </tr>\n",
              "    <tr>\n",
              "      <th>mean</th>\n",
              "      <td>173.434314</td>\n",
              "      <td>2013.014358</td>\n",
              "      <td>8.705671</td>\n",
              "      <td>19.201723</td>\n",
              "      <td>2.679828</td>\n",
              "      <td>5.021536</td>\n",
              "      <td>0.954774</td>\n",
              "      <td>0.119885</td>\n",
              "      <td>0.391960</td>\n",
              "      <td>7.391960</td>\n",
              "      <td>2.430725</td>\n",
              "      <td>0.629576</td>\n",
              "      <td>0.291457</td>\n",
              "      <td>1.877961</td>\n",
              "      <td>0.330223</td>\n",
              "      <td>3.714286</td>\n",
              "      <td>0.447236</td>\n",
              "      <td>0.361012</td>\n",
              "      <td>0.317912</td>\n",
              "      <td>0.381910</td>\n",
              "      <td>0.676924</td>\n",
              "    </tr>\n",
              "    <tr>\n",
              "      <th>std</th>\n",
              "      <td>94.716851</td>\n",
              "      <td>4.166757</td>\n",
              "      <td>5.562686</td>\n",
              "      <td>13.395946</td>\n",
              "      <td>2.637212</td>\n",
              "      <td>4.232584</td>\n",
              "      <td>1.196904</td>\n",
              "      <td>0.379976</td>\n",
              "      <td>0.748557</td>\n",
              "      <td>6.538787</td>\n",
              "      <td>2.698122</td>\n",
              "      <td>1.146854</td>\n",
              "      <td>0.595522</td>\n",
              "      <td>2.053392</td>\n",
              "      <td>0.642204</td>\n",
              "      <td>3.180884</td>\n",
              "      <td>0.723364</td>\n",
              "      <td>0.269892</td>\n",
              "      <td>0.151489</td>\n",
              "      <td>0.729521</td>\n",
              "      <td>0.386933</td>\n",
              "    </tr>\n",
              "    <tr>\n",
              "      <th>min</th>\n",
              "      <td>0.000000</td>\n",
              "      <td>2002.000000</td>\n",
              "      <td>1.000000</td>\n",
              "      <td>0.000000</td>\n",
              "      <td>0.000000</td>\n",
              "      <td>0.000000</td>\n",
              "      <td>0.000000</td>\n",
              "      <td>0.000000</td>\n",
              "      <td>0.000000</td>\n",
              "      <td>0.000000</td>\n",
              "      <td>0.000000</td>\n",
              "      <td>0.000000</td>\n",
              "      <td>0.000000</td>\n",
              "      <td>0.000000</td>\n",
              "      <td>0.000000</td>\n",
              "      <td>0.000000</td>\n",
              "      <td>0.000000</td>\n",
              "      <td>0.000000</td>\n",
              "      <td>0.000000</td>\n",
              "      <td>0.000000</td>\n",
              "      <td>0.000000</td>\n",
              "    </tr>\n",
              "    <tr>\n",
              "      <th>25%</th>\n",
              "      <td>99.000000</td>\n",
              "      <td>2010.000000</td>\n",
              "      <td>6.000000</td>\n",
              "      <td>9.000000</td>\n",
              "      <td>1.000000</td>\n",
              "      <td>2.000000</td>\n",
              "      <td>0.000000</td>\n",
              "      <td>0.000000</td>\n",
              "      <td>0.000000</td>\n",
              "      <td>2.000000</td>\n",
              "      <td>0.000000</td>\n",
              "      <td>0.000000</td>\n",
              "      <td>0.000000</td>\n",
              "      <td>0.000000</td>\n",
              "      <td>0.000000</td>\n",
              "      <td>1.000000</td>\n",
              "      <td>0.000000</td>\n",
              "      <td>0.217000</td>\n",
              "      <td>0.250000</td>\n",
              "      <td>0.000000</td>\n",
              "      <td>0.472000</td>\n",
              "    </tr>\n",
              "    <tr>\n",
              "      <th>50%</th>\n",
              "      <td>178.000000</td>\n",
              "      <td>2014.000000</td>\n",
              "      <td>9.000000</td>\n",
              "      <td>18.000000</td>\n",
              "      <td>2.000000</td>\n",
              "      <td>4.000000</td>\n",
              "      <td>1.000000</td>\n",
              "      <td>0.000000</td>\n",
              "      <td>0.000000</td>\n",
              "      <td>6.000000</td>\n",
              "      <td>2.000000</td>\n",
              "      <td>0.000000</td>\n",
              "      <td>0.000000</td>\n",
              "      <td>1.000000</td>\n",
              "      <td>0.000000</td>\n",
              "      <td>3.000000</td>\n",
              "      <td>0.000000</td>\n",
              "      <td>0.344500</td>\n",
              "      <td>0.333000</td>\n",
              "      <td>0.000000</td>\n",
              "      <td>0.675000</td>\n",
              "    </tr>\n",
              "    <tr>\n",
              "      <th>75%</th>\n",
              "      <td>254.000000</td>\n",
              "      <td>2017.000000</td>\n",
              "      <td>11.000000</td>\n",
              "      <td>28.000000</td>\n",
              "      <td>4.000000</td>\n",
              "      <td>8.000000</td>\n",
              "      <td>2.000000</td>\n",
              "      <td>0.000000</td>\n",
              "      <td>1.000000</td>\n",
              "      <td>11.000000</td>\n",
              "      <td>4.000000</td>\n",
              "      <td>1.000000</td>\n",
              "      <td>0.000000</td>\n",
              "      <td>3.000000</td>\n",
              "      <td>1.000000</td>\n",
              "      <td>5.000000</td>\n",
              "      <td>1.000000</td>\n",
              "      <td>0.478000</td>\n",
              "      <td>0.400000</td>\n",
              "      <td>1.000000</td>\n",
              "      <td>0.867000</td>\n",
              "    </tr>\n",
              "    <tr>\n",
              "      <th>max</th>\n",
              "      <td>344.000000</td>\n",
              "      <td>2018.000000</td>\n",
              "      <td>119.000000</td>\n",
              "      <td>183.000000</td>\n",
              "      <td>35.000000</td>\n",
              "      <td>51.000000</td>\n",
              "      <td>11.000000</td>\n",
              "      <td>4.000000</td>\n",
              "      <td>5.000000</td>\n",
              "      <td>68.000000</td>\n",
              "      <td>24.000000</td>\n",
              "      <td>9.000000</td>\n",
              "      <td>4.000000</td>\n",
              "      <td>21.000000</td>\n",
              "      <td>4.000000</td>\n",
              "      <td>36.000000</td>\n",
              "      <td>5.000000</td>\n",
              "      <td>4.000000</td>\n",
              "      <td>1.000000</td>\n",
              "      <td>5.000000</td>\n",
              "      <td>5.000000</td>\n",
              "    </tr>\n",
              "  </tbody>\n",
              "</table>\n",
              "</div>"
            ],
            "text/plain": [
              "         batter_id         year  ...            E          OPS\n",
              "count  1393.000000  1393.000000  ...  1393.000000  1364.000000\n",
              "mean    173.434314  2013.014358  ...     0.381910     0.676924\n",
              "std      94.716851     4.166757  ...     0.729521     0.386933\n",
              "min       0.000000  2002.000000  ...     0.000000     0.000000\n",
              "25%      99.000000  2010.000000  ...     0.000000     0.472000\n",
              "50%     178.000000  2014.000000  ...     0.000000     0.675000\n",
              "75%     254.000000  2017.000000  ...     1.000000     0.867000\n",
              "max     344.000000  2018.000000  ...     5.000000     5.000000\n",
              "\n",
              "[8 rows x 21 columns]"
            ]
          },
          "metadata": {}
        }
      ]
    },
    {
      "cell_type": "code",
      "metadata": {
        "colab": {
          "base_uri": "https://localhost:8080/",
          "height": 657
        },
        "id": "9kXaX-_GeBNC",
        "outputId": "80d29223-1d08-4b77-f114-b7385a9ebdab"
      },
      "source": [
        "pre_df.hist(figsize=(10,9))\n",
        "plt.tight_layout() #그래프 간격 설정\n",
        "plt.show()"
      ],
      "execution_count": 9,
      "outputs": [
        {
          "output_type": "display_data",
          "data": {
            "image/png": "[encoded data removed]",
            "text/plain": [
              "<Figure size 720x648 with 25 Axes>"
            ]
          },
          "metadata": {
            "needs_background": "light"
          }
        }
      ]
    },
    {
      "cell_type": "code",
      "metadata": {
        "id": "CI5Jsl3seVpQ"
      },
      "source": [
        "regular_player_num = regular_df.groupby('year')['batter_id'].count().rename('regular')\n",
        "pre_player_num = pre_df.groupby('year')['batter_id'].count().rename('pre')"
      ],
      "execution_count": 10,
      "outputs": []
    },
    {
      "cell_type": "code",
      "metadata": {
        "colab": {
          "base_uri": "https://localhost:8080/",
          "height": 142
        },
        "id": "GWs5B_gV2jsl",
        "outputId": "f2df400c-9ed8-4012-b0b5-f9108eae62ca"
      },
      "source": [
        "pd.concat([regular_player_num,pre_player_num,np.round(pre_player_num/regular_player_num,2).rename('ratio')],axis=1).T.loc[:,2002:] #2002년 부터의 정규시즌 대비 시범경기 등록 선수 비율\n",
        "#시간이 지날수록 시범경기시즌 선수 수 비율이 높아지고 있음"
      ],
      "execution_count": 11,
      "outputs": [
        {
          "output_type": "execute_result",
          "data": {
            "text/html": [
              "<div>\n",
              "<style scoped>\n",
              "    .dataframe tbody tr th:only-of-type {\n",
              "        vertical-align: middle;\n",
              "    }\n",
              "\n",
              "    .dataframe tbody tr th {\n",
              "        vertical-align: top;\n",
              "    }\n",
              "\n",
              "    .dataframe thead th {\n",
              "        text-align: right;\n",
              "    }\n",
              "</style>\n",
              "<table border=\"1\" class=\"dataframe\">\n",
              "  <thead>\n",
              "    <tr style=\"text-align: right;\">\n",
              "      <th>year</th>\n",
              "      <th>2002</th>\n",
              "      <th>2003</th>\n",
              "      <th>2004</th>\n",
              "      <th>2005</th>\n",
              "      <th>2006</th>\n",
              "      <th>2007</th>\n",
              "      <th>2008</th>\n",
              "      <th>2009</th>\n",
              "      <th>2010</th>\n",
              "      <th>2011</th>\n",
              "      <th>2012</th>\n",
              "      <th>2013</th>\n",
              "      <th>2014</th>\n",
              "      <th>2015</th>\n",
              "      <th>2016</th>\n",
              "      <th>2017</th>\n",
              "      <th>2018</th>\n",
              "    </tr>\n",
              "  </thead>\n",
              "  <tbody>\n",
              "    <tr>\n",
              "      <th>regular</th>\n",
              "      <td>43.00</td>\n",
              "      <td>54.00</td>\n",
              "      <td>68.00</td>\n",
              "      <td>73.00</td>\n",
              "      <td>85.00</td>\n",
              "      <td>98.00</td>\n",
              "      <td>115.00</td>\n",
              "      <td>124.00</td>\n",
              "      <td>130.00</td>\n",
              "      <td>151.0</td>\n",
              "      <td>174.0</td>\n",
              "      <td>194.00</td>\n",
              "      <td>186.00</td>\n",
              "      <td>207.00</td>\n",
              "      <td>213.00</td>\n",
              "      <td>217.00</td>\n",
              "      <td>227.0</td>\n",
              "    </tr>\n",
              "    <tr>\n",
              "      <th>pre</th>\n",
              "      <td>12.00</td>\n",
              "      <td>19.00</td>\n",
              "      <td>28.00</td>\n",
              "      <td>37.00</td>\n",
              "      <td>36.00</td>\n",
              "      <td>43.00</td>\n",
              "      <td>61.00</td>\n",
              "      <td>66.00</td>\n",
              "      <td>72.00</td>\n",
              "      <td>75.0</td>\n",
              "      <td>87.0</td>\n",
              "      <td>104.00</td>\n",
              "      <td>117.00</td>\n",
              "      <td>134.00</td>\n",
              "      <td>153.00</td>\n",
              "      <td>167.00</td>\n",
              "      <td>182.0</td>\n",
              "    </tr>\n",
              "    <tr>\n",
              "      <th>ratio</th>\n",
              "      <td>0.28</td>\n",
              "      <td>0.35</td>\n",
              "      <td>0.41</td>\n",
              "      <td>0.51</td>\n",
              "      <td>0.42</td>\n",
              "      <td>0.44</td>\n",
              "      <td>0.53</td>\n",
              "      <td>0.53</td>\n",
              "      <td>0.55</td>\n",
              "      <td>0.5</td>\n",
              "      <td>0.5</td>\n",
              "      <td>0.54</td>\n",
              "      <td>0.63</td>\n",
              "      <td>0.65</td>\n",
              "      <td>0.72</td>\n",
              "      <td>0.77</td>\n",
              "      <td>0.8</td>\n",
              "    </tr>\n",
              "  </tbody>\n",
              "</table>\n",
              "</div>"
            ],
            "text/plain": [
              "year      2002   2003   2004   2005  ...    2015    2016    2017   2018\n",
              "regular  43.00  54.00  68.00  73.00  ...  207.00  213.00  217.00  227.0\n",
              "pre      12.00  19.00  28.00  37.00  ...  134.00  153.00  167.00  182.0\n",
              "ratio     0.28   0.35   0.41   0.51  ...    0.65    0.72    0.77    0.8\n",
              "\n",
              "[3 rows x 17 columns]"
            ]
          },
          "metadata": {},
          "execution_count": 11
        }
      ]
    },
    {
      "cell_type": "code",
      "metadata": {
        "id": "hOiyKTEf3Rdl",
        "colab": {
          "base_uri": "https://localhost:8080/"
        },
        "outputId": "757d941f-5f7a-414c-fe56-05f4e2334d7a"
      },
      "source": [
        "#시범경기시즌과 정규시즌에 모두 존재하는 선수만 남기기\n",
        "\n",
        "regular_df['new_idx'] = regular_df['batter_name'] + regular_df['year'].apply(str)\n",
        "pre_df['new_idx'] = pre_df['batter_name'] + pre_df['year'].apply(str)\n",
        "\n",
        "##1. set,intersection method\n",
        "intersection_idx = list(set(regular_df['new_idx']).intersection(pre_df['new_idx']))\n",
        "print(\"intersection length: \"+ str(len(intersection_idx)))\n",
        "\n",
        "regular_new = regular_df.loc[regular_df['new_idx'].apply(lambda x: x in intersection_idx)]\n",
        "regular_new = regular_new.sort_values(by = 'new_idx').reset_index(drop=True) \n",
        "\n",
        "pre_new = pre_df.loc[pre_df['new_idx'].apply(lambda x: x in intersection_idx)]\n",
        "pre_new = pre_new.sort_values(by = 'new_idx').reset_index(drop=True)\n",
        "print(regular_new.shape, pre_new.shape)\n",
        "sum(regular_new['new_idx'] == pre_new['new_idx'])"
      ],
      "execution_count": 12,
      "outputs": [
        {
          "output_type": "stream",
          "text": [
            "intersection length: 1358\n",
            "(1358, 30) (1358, 30)\n"
          ],
          "name": "stdout"
        },
        {
          "output_type": "execute_result",
          "data": {
            "text/plain": [
              "1358"
            ]
          },
          "metadata": {},
          "execution_count": 12
        }
      ]
    },
    {
      "cell_type": "code",
      "metadata": {
        "colab": {
          "base_uri": "https://localhost:8080/"
        },
        "id": "V0t9AfSJ4GxL",
        "outputId": "53a7de7d-3ec1-4457-c37b-45834cfb4bcf"
      },
      "source": [
        "##2. inner join method \n",
        "pre_regular_innerjoin = pd.merge(regular_df['new_idx'] , pre_df['new_idx'] , how = 'inner', on = \"new_idx\")\n",
        "innerjoin_list=pre_regular_innerjoin['new_idx'].tolist()\n",
        "print(\"innerjoin_list length: \"+ str(len(innerjoin_list)))\n",
        "\n",
        "regular_new = regular_df[regular_df['new_idx'].isin(pre_regular_innerjoin['new_idx'].tolist())]\n",
        "regular_new = regular_new.sort_values(by = 'new_idx').reset_index(drop=True) \n",
        "\n",
        "pre_new = pre_df[pre_df['new_idx'].isin(pre_regular_innerjoin['new_idx'].tolist())]\n",
        "pre_new = pre_new.sort_values(by = 'new_idx').reset_index(drop=True) \n",
        "\n",
        "# 검정 코드\n",
        "print(regular_new.shape, pre_new.shape)\n",
        "sum(regular_new['new_idx'] == pre_new['new_idx'])"
      ],
      "execution_count": 13,
      "outputs": [
        {
          "output_type": "stream",
          "text": [
            "innerjoin_list length: 1358\n",
            "(1358, 30) (1358, 30)\n"
          ],
          "name": "stdout"
        },
        {
          "output_type": "execute_result",
          "data": {
            "text/plain": [
              "1358"
            ]
          },
          "metadata": {},
          "execution_count": 13
        }
      ]
    },
    {
      "cell_type": "code",
      "metadata": {
        "colab": {
          "base_uri": "https://localhost:8080/",
          "height": 411
        },
        "id": "kPaC5C-F5BB9",
        "outputId": "40b39591-f4fa-4c85-8286-5b87dd4093b1"
      },
      "source": [
        "#정규시즌과 시범경기의 OPS 상관관계\n",
        "correlation = regular_new['OPS'].corr(pre_new['OPS'])\n",
        "sns.scatterplot(regular_new['OPS'],pre_new['OPS'])\n",
        "plt.title('Correlation: '+str(correlation),fontsize = 20)\n",
        "plt.xlabel('정규시즌 OPS',fontsize=12)\n",
        "plt.ylabel('시범경기 시즌 OPS',fontsize=12)\n",
        "\n",
        "#상관성이 매우 낮음"
      ],
      "execution_count": 14,
      "outputs": [
        {
          "output_type": "stream",
          "text": [
            "/usr/local/lib/python3.7/dist-packages/seaborn/_decorators.py:43: FutureWarning:\n",
            "\n",
            "Pass the following variables as keyword args: x, y. From version 0.12, the only valid positional argument will be `data`, and passing other arguments without an explicit keyword will result in an error or misinterpretation.\n",
            "\n"
          ],
          "name": "stderr"
        },
        {
          "output_type": "execute_result",
          "data": {
            "text/plain": [
              "Text(0, 0.5, '시범경기 시즌 OPS')"
            ]
          },
          "metadata": {},
          "execution_count": 14
        },
        {
          "output_type": "display_data",
          "data": {
            "image/png": "[encoded data removed]",
            "text/plain": [
              "<Figure size 432x288 with 1 Axes>"
            ]
          },
          "metadata": {
            "needs_background": "light"
          }
        }
      ]
    },
    {
      "cell_type": "code",
      "metadata": {
        "id": "ouHJmGKH-ays"
      },
      "source": [
        ""
      ],
      "execution_count": 14,
      "outputs": []
    }
  ]
}